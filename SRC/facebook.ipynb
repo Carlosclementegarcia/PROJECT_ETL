{
 "cells": [
  {
   "cell_type": "code",
   "execution_count": 9,
   "metadata": {},
   "outputs": [],
   "source": [
    "import requests as req\n",
    "import pandas as pd\n",
    "\n",
    "\n"
   ]
  },
  {
   "cell_type": "code",
   "execution_count": 17,
   "metadata": {},
   "outputs": [
    {
     "data": {
      "text/plain": [
       "<Response [200]>"
      ]
     },
     "execution_count": 17,
     "metadata": {},
     "output_type": "execute_result"
    }
   ],
   "source": [
    "# URL de la API de DomainsDB para buscar nombres de dominio que contengan la palabra clave \"facebook\"\n",
    "url = 'https://api.domainsdb.info/v1/domains/search?domain=facebook'\n",
    "\n",
    "# Hace una solicitud a la API de DomainsDB\n",
    "response = req.get(url)\n",
    "\n",
    "response\n",
    "\n"
   ]
  },
  {
   "cell_type": "code",
   "execution_count": 18,
   "metadata": {},
   "outputs": [
    {
     "name": "stdout",
     "output_type": "stream",
     "text": [
      "                  domain                 create_date  \\\n",
      "0     facebook-india.com  2023-05-05T11:31:13.767775   \n",
      "1  facebook-ads.services  2023-05-05T11:29:21.396007   \n",
      "2        facebook-dl.com  2023-05-02T12:55:27.993346   \n",
      "3        facebook-dl.net  2023-05-01T05:01:24.211838   \n",
      "4        facebook-dl.pro  2023-05-01T05:01:05.627966   \n",
      "\n",
      "                  update_date country isDead               A  \\\n",
      "0  2023-05-05T11:31:13.767778      DE  False  [85.236.43.52]   \n",
      "1  2023-05-05T11:29:21.396009    None  False            None   \n",
      "2  2023-05-02T12:55:27.993348    None  False            None   \n",
      "3  2023-05-01T05:01:24.211840    None  False            None   \n",
      "4  2023-05-01T05:01:05.627968    None  False            None   \n",
      "\n",
      "                                                 NS CNAME    MX   TXT  \n",
      "0  [ns03.domaincontrol.com, ns04.domaincontrol.com]  None  None  None  \n",
      "1                                              None  None  None  None  \n",
      "2                                              None  None  None  None  \n",
      "3                                              None  None  None  None  \n",
      "4                                              None  None  None  None  \n"
     ]
    }
   ],
   "source": [
    "# guardo los datos en un DataFrame y printeo para ver los dominios de facebook que están registrados.\n",
    "\n",
    "data = response.json()['domains']\n",
    "data_facebook = pd.DataFrame(data)\n",
    "print(df.head())\n"
   ]
  }
 ],
 "metadata": {
  "kernelspec": {
   "display_name": "base",
   "language": "python",
   "name": "python3"
  },
  "language_info": {
   "codemirror_mode": {
    "name": "ipython",
    "version": 3
   },
   "file_extension": ".py",
   "mimetype": "text/x-python",
   "name": "python",
   "nbconvert_exporter": "python",
   "pygments_lexer": "ipython3",
   "version": "3.10.9"
  },
  "orig_nbformat": 4
 },
 "nbformat": 4,
 "nbformat_minor": 2
}
