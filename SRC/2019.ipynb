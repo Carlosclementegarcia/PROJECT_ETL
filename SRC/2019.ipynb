{
 "cells": [
  {
   "cell_type": "code",
   "execution_count": 5,
   "metadata": {},
   "outputs": [],
   "source": [
    "import pandas as pd\n",
    "from selenium import webdriver\n",
    "from webdriver_manager.chrome import ChromeDriverManager\n",
    "from selenium.webdriver.common.by import By # By es para buscar por tag, clase, id...\n"
   ]
  },
  {
   "cell_type": "code",
   "execution_count": 6,
   "metadata": {},
   "outputs": [],
   "source": [
    "# Configurar el controlador de Chrome\n",
    "driver = webdriver.Chrome()\n",
    "\n",
    "# Navegar a la página web\n",
    "driver.get(\"https://transparencia.archimadrid.es/ingresos-y-gastos-2019/\")\n"
   ]
  },
  {
   "cell_type": "code",
   "execution_count": 7,
   "metadata": {},
   "outputs": [
    {
     "data": {
      "text/plain": [
       "'Descargar tabla'"
      ]
     },
     "execution_count": 7,
     "metadata": {},
     "output_type": "execute_result"
    }
   ],
   "source": [
    "# Localizar el botón\n",
    "boton = driver.find_element(By.TAG_NAME, \"strong\")\n",
    "\n",
    "# Pulsar el botón\n",
    "boton.click()\n",
    "\n",
    "\n",
    "boton.text"
   ]
  },
  {
   "cell_type": "code",
   "execution_count": 1,
   "metadata": {},
   "outputs": [
    {
     "name": "stdout",
     "output_type": "stream",
     "text": [
      "Requirement already satisfied: feedparser in c:\\users\\cleme\\anaconda3\\lib\\site-packages (6.0.10)\n",
      "Requirement already satisfied: sgmllib3k in c:\\users\\cleme\\anaconda3\\lib\\site-packages (from feedparser) (1.0.0)\n",
      "Note: you may need to restart the kernel to use updated packages.\n"
     ]
    }
   ],
   "source": [
    "%pip install feedparser\n",
    "import feedparser\n",
    "\n",
    "\n"
   ]
  },
  {
   "cell_type": "code",
   "execution_count": null,
   "metadata": {},
   "outputs": [],
   "source": [
    "import pyodbc\n",
    "import pandas as pd\n",
    "\n",
    "# Definir la cadena de conexión a la base de datos\n",
    "conexion = pyodbc.connect(\n",
    "    \"Driver={Microsoft Excel Driver (*.xls, *.xlsx, *.xlsm, *.xlsb)};\"\n",
    "    \"DBQ=ruta/al/archivo.xlsx;\"\n",
    "    \"ReadOnly=1;\"\n",
    "    \"Extended Properties='Excel 12.0 XML';\"\n",
    ")\n",
    "\n",
    "# Consulta SQL para seleccionar los datos de la hoja de cálculo\n",
    "query = \"SELECT * FROM [Nombre de la hoja$]\"\n",
    "\n",
    "# Leer los datos en un dataframe\n",
    "df = pd.read_sql(query, conexion)\n",
    "\n",
    "# Cerrar la conexión\n",
    "conexion.close()\n"
   ]
  }
 ],
 "metadata": {
  "kernelspec": {
   "display_name": "base",
   "language": "python",
   "name": "python3"
  },
  "language_info": {
   "codemirror_mode": {
    "name": "ipython",
    "version": 3
   },
   "file_extension": ".py",
   "mimetype": "text/x-python",
   "name": "python",
   "nbconvert_exporter": "python",
   "pygments_lexer": "ipython3",
   "version": "3.10.9"
  },
  "orig_nbformat": 4
 },
 "nbformat": 4,
 "nbformat_minor": 2
}
