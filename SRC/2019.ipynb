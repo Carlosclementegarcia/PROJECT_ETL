{
 "cells": [
  {
   "cell_type": "code",
   "execution_count": 1,
   "metadata": {},
   "outputs": [],
   "source": [
    "from bs4 import BeautifulSoup\n",
    "import requests\n",
    "\n"
   ]
  },
  {
   "cell_type": "code",
   "execution_count": 7,
   "metadata": {},
   "outputs": [],
   "source": [
    "# Descarga la página web\n",
    "url = \"https://transparencia.archimadrid.es/ingresos-y-gastos-2019/\"\n",
    "response = requests.get(url)"
   ]
  },
  {
   "cell_type": "code",
   "execution_count": 8,
   "metadata": {},
   "outputs": [],
   "source": [
    "# Parsea el HTML de la página\n",
    "soup = BeautifulSoup(response.content, 'html.parser')\n"
   ]
  },
  {
   "cell_type": "code",
   "execution_count": 51,
   "metadata": {},
   "outputs": [
    {
     "data": {
      "text/plain": [
       "[<a class=\"social-media-item socail_media__facebook\" href=\"http://www.facebook.com/Archidicesis-de-Madrid-823358937728306/?hc_ref=NEWSFEED&amp;fref=nf\" rel=\"noopener\" target=\"_blank\" title=\"Facebook\"><span class=\"socail-media-item__content\"><i class=\"fa fa-facebook\"></i><span class=\"social_title screen-reader-text\">Facebook</span></span></a>,\n",
       " <a class=\"social-media-item socail_media__twitter\" href=\"http://twitter.com/archimadrid\" rel=\"noopener\" target=\"_blank\" title=\"Twitter\"><span class=\"socail-media-item__content\"><i class=\"fa fa-twitter\"></i><span class=\"social_title screen-reader-text\">Twitter</span></span></a>,\n",
       " <a class=\"social-media-item socail_media__flickr\" href=\"https://www.flickr.com/photos/archimadrid/albums\" rel=\"noopener\" target=\"_blank\" title=\"Flickr\"><span class=\"socail-media-item__content\"><i class=\"fa fa-flickr\"></i><span class=\"social_title screen-reader-text\">Flickr</span></span></a>,\n",
       " <a class=\"social-media-item socail_media__youtube\" href=\"https://www.youtube.com/user/archimadrid\" rel=\"noopener\" target=\"_blank\" title=\"Youtube\"><span class=\"socail-media-item__content\"><i class=\"fa fa-youtube-play\"></i><span class=\"social_title screen-reader-text\">Youtube</span></span></a>,\n",
       " <a href=\"tel:+34914546400\">+34 914 54 64 00</a>,\n",
       " <a href=\"mailto:transparencia@archimadrid.es\">transparencia@archimadrid.es</a>,\n",
       " <a class=\"custom-logo-link\" href=\"https://transparencia.archimadrid.es/\" rel=\"home\"><img alt=\"Transparencia – Archidiócesis de Madrid\" class=\"custom-logo\" decoding=\"async\" height=\"356\" loading=\"lazy\" sizes=\"(max-width: 1507px) 100vw, 1507px\" src=\"https://transparencia.archimadrid.es/wp-content/uploads/2020/10/cropped-logo_transparencia2-1.jpg\" srcset=\"https://transparencia.archimadrid.es/wp-content/uploads/2020/10/cropped-logo_transparencia2-1.jpg 1507w, https://transparencia.archimadrid.es/wp-content/uploads/2020/10/cropped-logo_transparencia2-1-300x71.jpg 300w, https://transparencia.archimadrid.es/wp-content/uploads/2020/10/cropped-logo_transparencia2-1-1024x242.jpg 1024w, https://transparencia.archimadrid.es/wp-content/uploads/2020/10/cropped-logo_transparencia2-1-768x181.jpg 768w, https://transparencia.archimadrid.es/wp-content/uploads/2020/10/cropped-logo_transparencia2-1-960x227.jpg 960w, https://transparencia.archimadrid.es/wp-content/uploads/2020/10/cropped-logo_transparencia2-1-585x138.jpg 585w\" width=\"1507\"/></a>,\n",
       " <a href=\"https://www.archimadrid.org\" itemprop=\"url\">Web diocesana</a>,\n",
       " <a href=\"#\" itemprop=\"url\">Guía</a>,\n",
       " <a href=\"#\" itemprop=\"url\">–</a>,\n",
       " <a href=\"https://transparencia.archimadrid.es/organigrama/\" itemprop=\"url\"><i class=\"fa fa-sitemap\"></i>Organigrama</a>,\n",
       " <a href=\"https://www.archimadrid.org/index.php/guia-diocesana/menu-izquierdo/biografia-2\" itemprop=\"url\" target=\"_blank\"><i class=\"fa fa-user-circle-o\"></i>Arzobispo</a>,\n",
       " <a href=\"https://www.archimadrid.org/index.php/guia-diocesana/menu-izquierdo/obispos-auxiliares\" itemprop=\"url\" target=\"_blank\"><i class=\"fa fa-user-circle-o\"></i> Obispos auxiliares</a>,\n",
       " <a href=\"https://www.archimadrid.org/index.php/guia-diocesana/menu-izquierdo/consejos-consultivos\" itemprop=\"url\" target=\"_blank\"><i class=\"fa fa-group\"></i> Consejos</a>,\n",
       " <a href=\"https://www.archimadrid.org/index.php/guia-diocesana/menu-izquierdo/vicaria-general\" itemprop=\"url\" target=\"_blank\"><i class=\"fa fa-crosshairs\"></i> Vicaría General</a>,\n",
       " <a href=\"https://www.archimadrid.org/index.php/guia-diocesana/menu-izquierdo/cancilleria\" itemprop=\"url\" target=\"_blank\"><i class=\"fa fa-pencil-square-o\"></i> Cancillería</a>,\n",
       " <a href=\"#\" itemprop=\"url\">–</a>,\n",
       " <a href=\"https://www.archimadrid.org/index.php/guia-diocesana/menu-izquierdo/santidad\" itemprop=\"url\" target=\"_blank\"><i class=\"fa fa-circle-o\"></i> Santidad</a>,\n",
       " <a href=\"https://www.archimadrid.org/index.php/guia-diocesana/menu-izquierdo/evangelizacion\" itemprop=\"url\" target=\"_blank\"><i class=\"fa fa-bullhorn\"></i> Evangelización</a>,\n",
       " <a href=\"https://www.archimadrid.org/index.php/guia-diocesana/menu-izquierdo/asuntos-economicos\" itemprop=\"url\" target=\"_blank\"><i class=\"fa fa-eur\"></i> Asuntos económicos</a>,\n",
       " <a href=\"https://www.archimadrid.org/index.php/guia-diocesana/menu-izquierdo/cuidado-de-la-vida\" itemprop=\"url\" target=\"_blank\"><i class=\"fa fa-heartbeat\"></i> Cuidado de la vida</a>,\n",
       " <a href=\"https://www.archimadrid.org/index.php/guia-diocesana/menu-izquierdo/desrrollo-humano-integral-e-innovacion\" itemprop=\"url\" target=\"_blank\"><i class=\"fa fa-handshake-o\"></i> Desarrollo Humano Integral y la Innovación</a>,\n",
       " <a href=\"#\" itemprop=\"url\">–</a>,\n",
       " <a href=\"https://www.archimadrid.org/index.php/guia-diocesana/menu-izquierdo/clero\" itemprop=\"url\" target=\"_blank\"><i class=\"fa fa-plus\"></i> Clero</a>,\n",
       " <a href=\"https://www.archimadrid.org/index.php/guia-diocesana/menu-derecho/vida-consagrada\" itemprop=\"url\" target=\"_blank\"><i class=\"fa fa-plus\"></i> Vida Consagrada</a>,\n",
       " <a href=\"https://www.archimadrid.org/index.php/guia-diocesana/menu-derecho/vicaria-judicial\" itemprop=\"url\" target=\"_blank\"><i class=\"fa fa-balance-scale\"></i> Vicaría Judicial</a>,\n",
       " <a href=\"https://www.archimadrid.org/index.php/guia-diocesana/menu-derecho/vicarias-territoriales\" itemprop=\"url\" target=\"_blank\"><i class=\"fa fa-map-o\"></i> Vicarías territoriales</a>,\n",
       " <a href=\"https://www.archimadrid.org/index.php/guia-diocesana/menu-derecho/servicios-generales\" itemprop=\"url\" target=\"_blank\"><i class=\"fa fa-navicon\"></i> Servicios generales</a>,\n",
       " <a href=\"https://www.archimadrid.org/index.php?Itemid=1146\" itemprop=\"url\" target=\"_blank\"><i class=\"fa fa-home\"></i> Parroquias</a>,\n",
       " <a href=\"#\" itemprop=\"url\">–</a>,\n",
       " <a href=\"https://repara.archimadrid.es\" itemprop=\"url\" target=\"_blank\"><i class=\"fa fa-heartbeat\"></i>Repara</a>,\n",
       " <a href=\"https://www.archimadrid.org/index.php/guia-diocesana/menu-derecho/seminarios\" itemprop=\"url\" target=\"_blank\"><i class=\"fa fa-building\"></i> Seminarios</a>,\n",
       " <a href=\"http://www.archimadrid.es/diaconadomadrid/\" itemprop=\"url\" target=\"_blank\"><i class=\"fa fa-eraser\"></i> Diaconado Permanente</a>,\n",
       " <a href=\"https://www.sandamaso.es\" itemprop=\"url\" target=\"_blank\"><i class=\"fa fa-graduation-cap\"></i> San Dámaso</a>,\n",
       " <a href=\"https://catedraldelaalmudena.es\" itemprop=\"url\" target=\"_blank\"><i class=\"fa fa-university\"></i> Museo Catedral</a>,\n",
       " <a href=\"https://www.archimadrid.org/index.php/guia-diocesana/menu-derecho/provincia-eclesiastica\" itemprop=\"url\" target=\"_blank\"><i class=\"fa fa-globe\"></i> Provincia Eclesiástica</a>,\n",
       " <a href=\"https://www.archimadrid.org/index.php/guia-diocesana/menu-derecho/emerito\" itemprop=\"url\" target=\"_blank\"><i class=\"fa fa-user-circle-o\"></i> Arzobispo emérito</a>,\n",
       " <a href=\"#\" itemprop=\"url\">Actividades</a>,\n",
       " <a href=\"https://transparencia.archimadrid.es/organizacion-de-la-diocesis/\" itemprop=\"url\">Organización territorial</a>,\n",
       " <a href=\"https://transparencia.archimadrid.es/actividad-celebrativa/\" itemprop=\"url\">Actividad celebrativa</a>,\n",
       " <a href=\"https://transparencia.archimadrid.es/category/desarrollo-humano-integral-y-la-innovacion/\" itemprop=\"url\">Vicaría para el Desarrollo Humano Integral y la Innovación</a>,\n",
       " <a href=\"https://transparencia.archimadrid.es/category/desarrollo-humano-integral-y-la-innovacion/caritas/\" itemprop=\"url\">Cáritas Diocesana de Madrid</a>,\n",
       " <a href=\"https://transparencia.archimadrid.es/category/desarrollo-humano-integral-y-la-innovacion/capellanias/\" itemprop=\"url\">Capellanías</a>,\n",
       " <a href=\"https://transparencia.archimadrid.es/category/desarrollo-humano-integral-y-la-innovacion/capellanias/capellania-cie-de-aluche/\" itemprop=\"url\">Capellanía CIE de Aluche</a>,\n",
       " <a href=\"https://transparencia.archimadrid.es/category/desarrollo-humano-integral-y-la-innovacion/capellanias/laurel-y-lavadero/\" itemprop=\"url\">Laurel y Lavadero</a>,\n",
       " <a href=\"https://transparencia.archimadrid.es/category/desarrollo-humano-integral-y-la-innovacion/centro-social-maria-fontarron/\" itemprop=\"url\">Centro Santa María de Fontarrón</a>,\n",
       " <a href=\"https://transparencia.archimadrid.es/category/desarrollo-humano-integral-y-la-innovacion/comision-ecologia-integral/\" itemprop=\"url\">Comisión de Ecología Integral</a>,\n",
       " <a href=\"https://transparencia.archimadrid.es/category/desarrollo-humano-integral-y-la-innovacion/movilidad-humana-desarrollo-humano-integral-y-la-innovacion/\" itemprop=\"url\">Movilidad Humana</a>,\n",
       " <a href=\"https://transparencia.archimadrid.es/category/desarrollo-humano-integral-y-la-innovacion/pastoral-penitenciaria/\" itemprop=\"url\">Pastoral Penitenciaria</a>,\n",
       " <a href=\"https://transparencia.archimadrid.es/category/desarrollo-humano-integral-y-la-innovacion/sarcu/\" itemprop=\"url\">SARCU</a>,\n",
       " <a href=\"https://transparencia.archimadrid.es/category/desarrollo-humano-integral-y-la-innovacion/pastoral-del-trafico-y-de-la-carretera/\" itemprop=\"url\">Pastoral del tráfico y de la carretera</a>,\n",
       " <a href=\"https://transparencia.archimadrid.es/category/desarrollo-humano-integral-y-la-innovacion/comision-por-la-comunion-eclesial/\" itemprop=\"url\">Comisión por la comunión eclesial</a>,\n",
       " <a href=\"https://transparencia.archimadrid.es/category/evangelizacion/\" itemprop=\"url\">Evangelización</a>,\n",
       " <a href=\"https://transparencia.archimadrid.es/category/evangelizacion/catequesis/\" itemprop=\"url\">Delegación Episcopal de Catequesis</a>,\n",
       " <a href=\"https://transparencia.archimadrid.es/category/evangelizacion/ensenanza-y-cultura/\" itemprop=\"url\">Delegación Episcopal de Enseñanza y cultura</a>,\n",
       " <a href=\"https://transparencia.archimadrid.es/category/evangelizacion/jovenes/\" itemprop=\"url\">Delegación Episcopal de Jóvenes</a>,\n",
       " <a href=\"https://transparencia.archimadrid.es/category/evangelizacion/laicos-familia-y-vida/\" itemprop=\"url\">Delegación Episcopal de Laicos, Familia y Vida</a>,\n",
       " <a href=\"https://transparencia.archimadrid.es/category/evangelizacion/misiones/\" itemprop=\"url\">Delegación Episcopal de Misiones</a>,\n",
       " <a href=\"https://transparencia.archimadrid.es/category/vicaria-para-el-cuidado-de-la-vida/\" itemprop=\"url\">Vicaría para el Cuidado de la Vida</a>,\n",
       " <a href=\"https://transparencia.archimadrid.es/category/vicaria-para-el-cuidado-de-la-vida/delegacion-episcopal-de-la-salud/\" itemprop=\"url\">Delegación Episcopal de la Salud</a>,\n",
       " <a href=\"https://transparencia.archimadrid.es/category/vicaria-del-clero/\" itemprop=\"url\">Vicaría del Clero</a>,\n",
       " <a href=\"https://transparencia.archimadrid.es/category/vicaria-de-vida-consagrada/\" itemprop=\"url\">Vicaría de Vida Consagrada</a>,\n",
       " <a href=\"https://transparencia.archimadrid.es/category/servicios-generales/\" itemprop=\"url\">Servicios generales</a>,\n",
       " <a href=\"https://transparencia.archimadrid.es/category/servicios-generales/gabinete-de-comunicacion/\" itemprop=\"url\">Gabinete de Comunicación</a>,\n",
       " <a href=\"https://transparencia.archimadrid.es/category/servicios-generales/actos-institucionales/\" itemprop=\"url\">Actos Institucionales</a>,\n",
       " <a href=\"https://transparencia.archimadrid.es/category/instituciones/\" itemprop=\"url\">Instituciones</a>,\n",
       " <a href=\"https://transparencia.archimadrid.es/category/instituciones/universidad-san-damaso/\" itemprop=\"url\">Universidad San Dámaso</a>,\n",
       " <a href=\"https://transparencia.archimadrid.es/category/instituciones/seminarios/\" itemprop=\"url\">Seminarios</a>,\n",
       " <a href=\"https://transparencia.archimadrid.es/category/instituciones/manos-unidas/\" itemprop=\"url\">Manos Unidas</a>,\n",
       " <a href=\"#\" itemprop=\"url\">Políticas y planificación</a>,\n",
       " <a href=\"https://transparencia.archimadrid.es/wp-content/uploads/2021/07/Estatuto_y_reglamento_de_la_Curia.pdf\" itemprop=\"url\" target=\"_blank\">Estatuto y reglamento de la Curia</a>,\n",
       " <a href=\"https://transparencia.archimadrid.es/wp-content/uploads/2021/07/Estatutos_del_Consejo_Presbiteral.pdf\" itemprop=\"url\" target=\"_blank\">Estatutos del Consejo Presbiteral</a>,\n",
       " <a href=\"https://transparencia.archimadrid.es/wp-content/uploads/2021/08/Estatutos_Consejo_Pastoral.pdf\" itemprop=\"url\">Estatutos del Consejo Pastoral</a>,\n",
       " <a href=\"https://transparencia.archimadrid.es/wp-content/uploads/2021/07/Estatutos_de_los_arciprestazgos.pdf\" itemprop=\"url\" target=\"_blank\">Estatutos de los arciprestazgos</a>,\n",
       " <a href=\"https://transparencia.archimadrid.es/wp-content/uploads/2021/08/Estatutos_consejos_pastorales_parroquiales.pdf\" itemprop=\"url\">Estatutos de los consejos pastorales parroquiales</a>,\n",
       " <a href=\"https://transparencia.archimadrid.es/wp-content/uploads/2021/08/Estatutos_consejos_economicos_parroquiales.pdf\" itemprop=\"url\">Estatutos de los consejos económicos parroquiales</a>,\n",
       " <a href=\"https://transparencia.archimadrid.es/wp-content/uploads/2021/08/Oficio_parroquial.pdf\" itemprop=\"url\">Instrucción sobre la provisión de oficio parroquial</a>,\n",
       " <a href=\"https://repara.archimadrid.es/wp-content/uploads/2020/12/Protocolo_Archimadrid_Repara.pdf\" itemprop=\"url\" target=\"_blank\">Protocolo ‘ad experimentum’ de prevención e intervención ante abusos</a>,\n",
       " <a href=\"https://transparencia.archimadrid.es/wp-content/uploads/2022/11/Normas_para_asociaciones_de_fieles_y_fundaciones.pdf\" itemprop=\"url\" target=\"_blank\">Normas para asociaciones de fieles y fundaciones</a>,\n",
       " <a href=\"https://plandiocesanomisionero.com/\" itemprop=\"url\" target=\"_blank\">Plan Diocesano de Evangelización y Plan Diocesano Misionero</a>,\n",
       " <a href=\"#\" itemprop=\"url\">Ingresos y gastos</a>,\n",
       " <a href=\"https://transparencia.archimadrid.es/conoce-como-se-financia-la-iglesia-catolica/\" itemprop=\"url\">Así se financia la Iglesia</a>,\n",
       " <a href=\"https://transparencia.archimadrid.es/ingresos-y-gastos-2021/\" itemprop=\"url\">Ingresos y gastos 2021</a>,\n",
       " <a href=\"https://transparencia.archimadrid.es/ingresos-y-gastos-2020/\" itemprop=\"url\">Ingresos y gastos 2020</a>,\n",
       " <a href=\"https://transparencia.archimadrid.es/ingresos-y-gastos-2019/\" itemprop=\"url\">Ingresos y gastos 2019</a>,\n",
       " <a href=\"https://transparencia.archimadrid.es/ingresos-y-gastos-2018/\" itemprop=\"url\">Ingresos y gastos 2018</a>,\n",
       " <a href=\"https://transparencia.archimadrid.es/ingresos-y-gastos-2017/\" itemprop=\"url\">Ingresos y gastos 2017</a>,\n",
       " <a href=\"https://transparencia.archimadrid.es/ingresos-y-gastos-2016/\" itemprop=\"url\">Ingresos y gastos 2016</a>,\n",
       " <a href=\"https://transparencia.archimadrid.es/ingresos-y-gastos-2015/\" itemprop=\"url\">Ingresos y gastos 2015</a>,\n",
       " <a href=\"#\" itemprop=\"url\">Convenios</a>,\n",
       " <a href=\"https://transparencia.archimadrid.es/convenios-y-subvenciones-del-arzobispado-de-madrid-con-la-comunidad-autonoma-de-madrid-vigentes/\" itemprop=\"url\">Convenios en vigor</a>,\n",
       " <a href=\"#\" itemprop=\"url\">Convenios pasados</a>,\n",
       " <a href=\"https://transparencia.archimadrid.es/convenios-y-subvenciones-del-arzobispado-de-madrid-con-la-comunidad-autonoma-de-madrid-2021/\" itemprop=\"url\">2021</a>,\n",
       " <a href=\"https://transparencia.archimadrid.es/convenios-y-subvenciones-del-arzobispado-de-madrid-con-la-comunidad-autonoma-de-madrid-2020/\" itemprop=\"url\">2020</a>,\n",
       " <a href=\"https://transparencia.archimadrid.es/convenios-y-subvenciones-del-arzobispado-de-madrid-con-la-comunidad-autonoma-de-madrid-2019/\" itemprop=\"url\">2019</a>,\n",
       " <a href=\"https://transparencia.archimadrid.es/convenios-y-subvenciones-del-arzobispado-de-madrid-con-la-comunidad-autonoma-de-madrid-2018/\" itemprop=\"url\">2018</a>,\n",
       " <a href=\"https://transparencia.archimadrid.es/transparencia-inmatriculaciones/\" itemprop=\"url\">Inmatriculaciones</a>,\n",
       " <a href=\"https://transparencia.archimadrid.es/donaciones/\" itemprop=\"url\">Cómo donar</a>,\n",
       " <a class=\"custom-logo-link logo_header_mobile\" href=\"https://transparencia.archimadrid.es/\"><img alt=\"Transparencia – Archidiócesis de Madrid\" src=\"https://transparencia.archimadrid.es/wp-content/uploads/2020/10/logo_transparencia2-1.jpg\"/></a>,\n",
       " <a href=\"https://transparencia.archimadrid.es/wp-content/uploads/2021/03/Ingresos_y_Gastos_Archidiocesis_de_Madrid_2019.zip\"><strong>Descargar tabla</strong></a>,\n",
       " <a href=\"mailto:informacion@catedraldelaalmudena.es\">informacion@catedraldelaalmudena.es<br/></a>,\n",
       " <a href=\"http://www.catedraldelaalmudena.es\" rel=\"noopener noreferrer\" target=\"_blank\">catedraldelaalmudena.es</a>,\n",
       " <a href=\"mailto:informacion@catedraldelaalmudena.es\"></a>,\n",
       " <a href=\"mailto:informacion@catedraldelaalmudena.es\"></a>,\n",
       " <a href=\"mailto:%20infomadrid@archimadrid.es\">infomadrid@archimadrid.es</a>,\n",
       " <a href=\"mailto:webmaster@archimadrid.org\">webmaster@archimadrid.org</a>,\n",
       " <a href=\"http://www.intranet.archimadrid.com/\" rel=\"noopener noreferrer\" target=\"_blank\">Recursos parroquiales<br/></a>,\n",
       " <a href=\"https://www.archimadrid.org/index.php/peticion-de-mail?view=form\" rel=\"noopener noreferrer\" target=\"_blank\" title=\"PETICIÓN DE EMAIL\">Petición de email</a>,\n",
       " <a href=\"https://www.archimadrid.org/index.php/component/content/article/116-servicioinformatico/2014-01-28-13-03-53/1112-utilidad-para-norma-sepa?Itemid=437\" rel=\"noopener noreferrer\" target=\"_blank\">Utilidad para norma SEPA<br/></a>,\n",
       " <a href=\"mailto:transparencia@archimadrid.es\" rel=\"noopener noreferrer\">transparencia@archimadrid.es </a>,\n",
       " <a href=\"mailto:donativos@archidiocesis.madrid\" rel=\"noopener noreferrer\">donativos@archidiocesis.madrid </a>,\n",
       " <a href=\"https://www.archimadrid.org/index.php/component/content/article/117-cookies/cookies/1197-2014-06-13-09-17-03?Itemid=437\" rel=\"noopener noreferrer\" target=\"_blank\">Política de cookies<br/></a>,\n",
       " <a href=\"https://www.archimadrid.org/index.php/component/content/article/117-cookies/cookies/1198-2014-06-13-09-23-09?Itemid=437\" rel=\"noopener noreferrer\" target=\"_blank\">Información de cookies</a>,\n",
       " <a href=\"https://www.archimadrid.org/index.php/suscripcion/politica-de-privacidad\" target=\"_parent\" title=\"Ver la política de privacidad\">Política de privacidad</a>,\n",
       " <a class=\"custom-logo-link\" href=\"https://transparencia.archimadrid.es/\" rel=\"home\"><img alt=\"Transparencia – Archidiócesis de Madrid\" class=\"custom-logo\" decoding=\"async\" height=\"356\" loading=\"lazy\" sizes=\"(max-width: 1507px) 100vw, 1507px\" src=\"https://transparencia.archimadrid.es/wp-content/uploads/2020/10/cropped-logo_transparencia2-1.jpg\" srcset=\"https://transparencia.archimadrid.es/wp-content/uploads/2020/10/cropped-logo_transparencia2-1.jpg 1507w, https://transparencia.archimadrid.es/wp-content/uploads/2020/10/cropped-logo_transparencia2-1-300x71.jpg 300w, https://transparencia.archimadrid.es/wp-content/uploads/2020/10/cropped-logo_transparencia2-1-1024x242.jpg 1024w, https://transparencia.archimadrid.es/wp-content/uploads/2020/10/cropped-logo_transparencia2-1-768x181.jpg 768w, https://transparencia.archimadrid.es/wp-content/uploads/2020/10/cropped-logo_transparencia2-1-960x227.jpg 960w, https://transparencia.archimadrid.es/wp-content/uploads/2020/10/cropped-logo_transparencia2-1-585x138.jpg 585w\" width=\"1507\"/></a>,\n",
       " <a class=\"social-media-item socail_media__facebook\" href=\"http://www.facebook.com/Archidicesis-de-Madrid-823358937728306/?hc_ref=NEWSFEED&amp;fref=nf\" rel=\"noopener\" target=\"_blank\" title=\"Facebook\"><span class=\"socail-media-item__content\"><i class=\"fa fa-facebook\"></i><span class=\"social_title screen-reader-text\">Facebook</span></span></a>,\n",
       " <a class=\"social-media-item socail_media__twitter\" href=\"http://twitter.com/archimadrid\" rel=\"noopener\" target=\"_blank\" title=\"Twitter\"><span class=\"socail-media-item__content\"><i class=\"fa fa-twitter\"></i><span class=\"social_title screen-reader-text\">Twitter</span></span></a>,\n",
       " <a class=\"social-media-item socail_media__flickr\" href=\"https://www.flickr.com/photos/archimadrid/albums\" rel=\"noopener\" target=\"_blank\" title=\"Flickr\"><span class=\"socail-media-item__content\"><i class=\"fa fa-flickr\"></i><span class=\"social_title screen-reader-text\">Flickr</span></span></a>,\n",
       " <a class=\"social-media-item socail_media__youtube\" href=\"https://www.youtube.com/user/archimadrid\" rel=\"noopener\" target=\"_blank\" title=\"Youtube\"><span class=\"socail-media-item__content\"><i class=\"fa fa-youtube-play\"></i><span class=\"social_title screen-reader-text\">Youtube</span></span></a>,\n",
       " <a href=\"https://www.archimadrid.org\">Web diocesana</a>,\n",
       " <a href=\"#\">Guía</a>,\n",
       " <a href=\"#\">–</a>,\n",
       " <a href=\"https://transparencia.archimadrid.es/organigrama/\"><i class=\"fa fa-sitemap\"></i>Organigrama</a>,\n",
       " <a href=\"https://www.archimadrid.org/index.php/guia-diocesana/menu-izquierdo/biografia-2\" rel=\"noopener\" target=\"_blank\"><i class=\"fa fa-user-circle-o\"></i>Arzobispo</a>,\n",
       " <a href=\"https://www.archimadrid.org/index.php/guia-diocesana/menu-izquierdo/obispos-auxiliares\" rel=\"noopener\" target=\"_blank\"><i class=\"fa fa-user-circle-o\"></i> Obispos auxiliares</a>,\n",
       " <a href=\"https://www.archimadrid.org/index.php/guia-diocesana/menu-izquierdo/consejos-consultivos\" rel=\"noopener\" target=\"_blank\"><i class=\"fa fa-group\"></i> Consejos</a>,\n",
       " <a href=\"https://www.archimadrid.org/index.php/guia-diocesana/menu-izquierdo/vicaria-general\" rel=\"noopener\" target=\"_blank\"><i class=\"fa fa-crosshairs\"></i> Vicaría General</a>,\n",
       " <a href=\"https://www.archimadrid.org/index.php/guia-diocesana/menu-izquierdo/cancilleria\" rel=\"noopener\" target=\"_blank\"><i class=\"fa fa-pencil-square-o\"></i> Cancillería</a>,\n",
       " <a href=\"#\">–</a>,\n",
       " <a href=\"https://www.archimadrid.org/index.php/guia-diocesana/menu-izquierdo/santidad\" rel=\"noopener\" target=\"_blank\"><i class=\"fa fa-circle-o\"></i> Santidad</a>,\n",
       " <a href=\"https://www.archimadrid.org/index.php/guia-diocesana/menu-izquierdo/evangelizacion\" rel=\"noopener\" target=\"_blank\"><i class=\"fa fa-bullhorn\"></i> Evangelización</a>,\n",
       " <a href=\"https://www.archimadrid.org/index.php/guia-diocesana/menu-izquierdo/asuntos-economicos\" rel=\"noopener\" target=\"_blank\"><i class=\"fa fa-eur\"></i> Asuntos económicos</a>,\n",
       " <a href=\"https://www.archimadrid.org/index.php/guia-diocesana/menu-izquierdo/cuidado-de-la-vida\" rel=\"noopener\" target=\"_blank\"><i class=\"fa fa-heartbeat\"></i> Cuidado de la vida</a>,\n",
       " <a href=\"https://www.archimadrid.org/index.php/guia-diocesana/menu-izquierdo/desrrollo-humano-integral-e-innovacion\" rel=\"noopener\" target=\"_blank\"><i class=\"fa fa-handshake-o\"></i> Desarrollo Humano Integral y la Innovación</a>,\n",
       " <a href=\"#\">–</a>,\n",
       " <a href=\"https://www.archimadrid.org/index.php/guia-diocesana/menu-izquierdo/clero\" rel=\"noopener\" target=\"_blank\"><i class=\"fa fa-plus\"></i> Clero</a>,\n",
       " <a href=\"https://www.archimadrid.org/index.php/guia-diocesana/menu-derecho/vida-consagrada\" rel=\"noopener\" target=\"_blank\"><i class=\"fa fa-plus\"></i> Vida Consagrada</a>,\n",
       " <a href=\"https://www.archimadrid.org/index.php/guia-diocesana/menu-derecho/vicaria-judicial\" rel=\"noopener\" target=\"_blank\"><i class=\"fa fa-balance-scale\"></i> Vicaría Judicial</a>,\n",
       " <a href=\"https://www.archimadrid.org/index.php/guia-diocesana/menu-derecho/vicarias-territoriales\" rel=\"noopener\" target=\"_blank\"><i class=\"fa fa-map-o\"></i> Vicarías territoriales</a>,\n",
       " <a href=\"https://www.archimadrid.org/index.php/guia-diocesana/menu-derecho/servicios-generales\" rel=\"noopener\" target=\"_blank\"><i class=\"fa fa-navicon\"></i> Servicios generales</a>,\n",
       " <a href=\"https://www.archimadrid.org/index.php?Itemid=1146\" rel=\"noopener\" target=\"_blank\"><i class=\"fa fa-home\"></i> Parroquias</a>,\n",
       " <a href=\"#\">–</a>,\n",
       " <a href=\"https://repara.archimadrid.es\" rel=\"noopener\" target=\"_blank\"><i class=\"fa fa-heartbeat\"></i>Repara</a>,\n",
       " <a href=\"https://www.archimadrid.org/index.php/guia-diocesana/menu-derecho/seminarios\" rel=\"noopener\" target=\"_blank\"><i class=\"fa fa-building\"></i> Seminarios</a>,\n",
       " <a href=\"http://www.archimadrid.es/diaconadomadrid/\" rel=\"noopener\" target=\"_blank\"><i class=\"fa fa-eraser\"></i> Diaconado Permanente</a>,\n",
       " <a href=\"https://www.sandamaso.es\" rel=\"noopener\" target=\"_blank\"><i class=\"fa fa-graduation-cap\"></i> San Dámaso</a>,\n",
       " <a href=\"https://catedraldelaalmudena.es\" rel=\"noopener\" target=\"_blank\"><i class=\"fa fa-university\"></i> Museo Catedral</a>,\n",
       " <a href=\"https://www.archimadrid.org/index.php/guia-diocesana/menu-derecho/provincia-eclesiastica\" rel=\"noopener\" target=\"_blank\"><i class=\"fa fa-globe\"></i> Provincia Eclesiástica</a>,\n",
       " <a href=\"https://www.archimadrid.org/index.php/guia-diocesana/menu-derecho/emerito\" rel=\"noopener\" target=\"_blank\"><i class=\"fa fa-user-circle-o\"></i> Arzobispo emérito</a>,\n",
       " <a href=\"#\">Actividades</a>,\n",
       " <a href=\"https://transparencia.archimadrid.es/organizacion-de-la-diocesis/\">Organización territorial</a>,\n",
       " <a href=\"https://transparencia.archimadrid.es/actividad-celebrativa/\">Actividad celebrativa</a>,\n",
       " <a href=\"https://transparencia.archimadrid.es/category/desarrollo-humano-integral-y-la-innovacion/\">Vicaría para el Desarrollo Humano Integral y la Innovación</a>,\n",
       " <a href=\"https://transparencia.archimadrid.es/category/desarrollo-humano-integral-y-la-innovacion/caritas/\">Cáritas Diocesana de Madrid</a>,\n",
       " <a href=\"https://transparencia.archimadrid.es/category/desarrollo-humano-integral-y-la-innovacion/capellanias/\">Capellanías</a>,\n",
       " <a href=\"https://transparencia.archimadrid.es/category/desarrollo-humano-integral-y-la-innovacion/capellanias/capellania-cie-de-aluche/\">Capellanía CIE de Aluche</a>,\n",
       " <a href=\"https://transparencia.archimadrid.es/category/desarrollo-humano-integral-y-la-innovacion/capellanias/laurel-y-lavadero/\">Laurel y Lavadero</a>,\n",
       " <a href=\"https://transparencia.archimadrid.es/category/desarrollo-humano-integral-y-la-innovacion/centro-social-maria-fontarron/\">Centro Santa María de Fontarrón</a>,\n",
       " <a href=\"https://transparencia.archimadrid.es/category/desarrollo-humano-integral-y-la-innovacion/comision-ecologia-integral/\">Comisión de Ecología Integral</a>,\n",
       " <a href=\"https://transparencia.archimadrid.es/category/desarrollo-humano-integral-y-la-innovacion/movilidad-humana-desarrollo-humano-integral-y-la-innovacion/\">Movilidad Humana</a>,\n",
       " <a href=\"https://transparencia.archimadrid.es/category/desarrollo-humano-integral-y-la-innovacion/pastoral-penitenciaria/\">Pastoral Penitenciaria</a>,\n",
       " <a href=\"https://transparencia.archimadrid.es/category/desarrollo-humano-integral-y-la-innovacion/sarcu/\">SARCU</a>,\n",
       " <a href=\"https://transparencia.archimadrid.es/category/desarrollo-humano-integral-y-la-innovacion/pastoral-del-trafico-y-de-la-carretera/\">Pastoral del tráfico y de la carretera</a>,\n",
       " <a href=\"https://transparencia.archimadrid.es/category/desarrollo-humano-integral-y-la-innovacion/comision-por-la-comunion-eclesial/\">Comisión por la comunión eclesial</a>,\n",
       " <a href=\"https://transparencia.archimadrid.es/category/evangelizacion/\">Evangelización</a>,\n",
       " <a href=\"https://transparencia.archimadrid.es/category/evangelizacion/catequesis/\">Delegación Episcopal de Catequesis</a>,\n",
       " <a href=\"https://transparencia.archimadrid.es/category/evangelizacion/ensenanza-y-cultura/\">Delegación Episcopal de Enseñanza y cultura</a>,\n",
       " <a href=\"https://transparencia.archimadrid.es/category/evangelizacion/jovenes/\">Delegación Episcopal de Jóvenes</a>,\n",
       " <a href=\"https://transparencia.archimadrid.es/category/evangelizacion/laicos-familia-y-vida/\">Delegación Episcopal de Laicos, Familia y Vida</a>,\n",
       " <a href=\"https://transparencia.archimadrid.es/category/evangelizacion/misiones/\">Delegación Episcopal de Misiones</a>,\n",
       " <a href=\"https://transparencia.archimadrid.es/category/vicaria-para-el-cuidado-de-la-vida/\">Vicaría para el Cuidado de la Vida</a>,\n",
       " <a href=\"https://transparencia.archimadrid.es/category/vicaria-para-el-cuidado-de-la-vida/delegacion-episcopal-de-la-salud/\">Delegación Episcopal de la Salud</a>,\n",
       " <a href=\"https://transparencia.archimadrid.es/category/vicaria-del-clero/\">Vicaría del Clero</a>,\n",
       " <a href=\"https://transparencia.archimadrid.es/category/vicaria-de-vida-consagrada/\">Vicaría de Vida Consagrada</a>,\n",
       " <a href=\"https://transparencia.archimadrid.es/category/servicios-generales/\">Servicios generales</a>,\n",
       " <a href=\"https://transparencia.archimadrid.es/category/servicios-generales/gabinete-de-comunicacion/\">Gabinete de Comunicación</a>,\n",
       " <a href=\"https://transparencia.archimadrid.es/category/servicios-generales/actos-institucionales/\">Actos Institucionales</a>,\n",
       " <a href=\"https://transparencia.archimadrid.es/category/instituciones/\">Instituciones</a>,\n",
       " <a href=\"https://transparencia.archimadrid.es/category/instituciones/universidad-san-damaso/\">Universidad San Dámaso</a>,\n",
       " <a href=\"https://transparencia.archimadrid.es/category/instituciones/seminarios/\">Seminarios</a>,\n",
       " <a href=\"https://transparencia.archimadrid.es/category/instituciones/manos-unidas/\">Manos Unidas</a>,\n",
       " <a href=\"#\">Políticas y planificación</a>,\n",
       " <a href=\"https://transparencia.archimadrid.es/wp-content/uploads/2021/07/Estatuto_y_reglamento_de_la_Curia.pdf\" rel=\"noopener\" target=\"_blank\">Estatuto y reglamento de la Curia</a>,\n",
       " <a href=\"https://transparencia.archimadrid.es/wp-content/uploads/2021/07/Estatutos_del_Consejo_Presbiteral.pdf\" rel=\"noopener\" target=\"_blank\">Estatutos del Consejo Presbiteral</a>,\n",
       " <a href=\"https://transparencia.archimadrid.es/wp-content/uploads/2021/08/Estatutos_Consejo_Pastoral.pdf\">Estatutos del Consejo Pastoral</a>,\n",
       " <a href=\"https://transparencia.archimadrid.es/wp-content/uploads/2021/07/Estatutos_de_los_arciprestazgos.pdf\" rel=\"noopener\" target=\"_blank\">Estatutos de los arciprestazgos</a>,\n",
       " <a href=\"https://transparencia.archimadrid.es/wp-content/uploads/2021/08/Estatutos_consejos_pastorales_parroquiales.pdf\">Estatutos de los consejos pastorales parroquiales</a>,\n",
       " <a href=\"https://transparencia.archimadrid.es/wp-content/uploads/2021/08/Estatutos_consejos_economicos_parroquiales.pdf\">Estatutos de los consejos económicos parroquiales</a>,\n",
       " <a href=\"https://transparencia.archimadrid.es/wp-content/uploads/2021/08/Oficio_parroquial.pdf\">Instrucción sobre la provisión de oficio parroquial</a>,\n",
       " <a href=\"https://repara.archimadrid.es/wp-content/uploads/2020/12/Protocolo_Archimadrid_Repara.pdf\" rel=\"noopener\" target=\"_blank\">Protocolo ‘ad experimentum’ de prevención e intervención ante abusos</a>,\n",
       " <a href=\"https://transparencia.archimadrid.es/wp-content/uploads/2022/11/Normas_para_asociaciones_de_fieles_y_fundaciones.pdf\" rel=\"noopener\" target=\"_blank\">Normas para asociaciones de fieles y fundaciones</a>,\n",
       " <a href=\"https://plandiocesanomisionero.com/\" rel=\"noopener\" target=\"_blank\">Plan Diocesano de Evangelización y Plan Diocesano Misionero</a>,\n",
       " <a href=\"#\">Ingresos y gastos</a>,\n",
       " <a href=\"https://transparencia.archimadrid.es/conoce-como-se-financia-la-iglesia-catolica/\">Así se financia la Iglesia</a>,\n",
       " <a href=\"https://transparencia.archimadrid.es/ingresos-y-gastos-2021/\">Ingresos y gastos 2021</a>,\n",
       " <a href=\"https://transparencia.archimadrid.es/ingresos-y-gastos-2020/\">Ingresos y gastos 2020</a>,\n",
       " <a aria-current=\"page\" href=\"https://transparencia.archimadrid.es/ingresos-y-gastos-2019/\">Ingresos y gastos 2019</a>,\n",
       " <a href=\"https://transparencia.archimadrid.es/ingresos-y-gastos-2018/\">Ingresos y gastos 2018</a>,\n",
       " <a href=\"https://transparencia.archimadrid.es/ingresos-y-gastos-2017/\">Ingresos y gastos 2017</a>,\n",
       " <a href=\"https://transparencia.archimadrid.es/ingresos-y-gastos-2016/\">Ingresos y gastos 2016</a>,\n",
       " <a href=\"https://transparencia.archimadrid.es/ingresos-y-gastos-2015/\">Ingresos y gastos 2015</a>,\n",
       " <a href=\"#\">Convenios</a>,\n",
       " <a href=\"https://transparencia.archimadrid.es/convenios-y-subvenciones-del-arzobispado-de-madrid-con-la-comunidad-autonoma-de-madrid-vigentes/\">Convenios en vigor</a>,\n",
       " <a href=\"#\">Convenios pasados</a>,\n",
       " <a href=\"https://transparencia.archimadrid.es/convenios-y-subvenciones-del-arzobispado-de-madrid-con-la-comunidad-autonoma-de-madrid-2021/\">2021</a>,\n",
       " <a href=\"https://transparencia.archimadrid.es/convenios-y-subvenciones-del-arzobispado-de-madrid-con-la-comunidad-autonoma-de-madrid-2020/\">2020</a>,\n",
       " <a href=\"https://transparencia.archimadrid.es/convenios-y-subvenciones-del-arzobispado-de-madrid-con-la-comunidad-autonoma-de-madrid-2019/\">2019</a>,\n",
       " <a href=\"https://transparencia.archimadrid.es/convenios-y-subvenciones-del-arzobispado-de-madrid-con-la-comunidad-autonoma-de-madrid-2018/\">2018</a>,\n",
       " <a href=\"https://transparencia.archimadrid.es/transparencia-inmatriculaciones/\">Inmatriculaciones</a>,\n",
       " <a href=\"https://transparencia.archimadrid.es/donaciones/\">Cómo donar</a>,\n",
       " <a class=\"header-1\" id=\"close-sidebar-nav\"><i class=\"fa fa-close\"></i></a>,\n",
       " <a href=\"#\" id=\"scroll-to-top\"><i class=\"fa fa-angle-up\"></i></a>]"
      ]
     },
     "execution_count": 51,
     "metadata": {},
     "output_type": "execute_result"
    }
   ],
   "source": [
    "# Localiza el botón\n",
    "\n",
    "\n",
    "# Obtiene la URL a la que el botón redirige\n",
    "sopa = soup.find_all('a')\n",
    "\n",
    "sopa"
   ]
  },
  {
   "cell_type": "code",
   "execution_count": 52,
   "metadata": {},
   "outputs": [],
   "source": [
    "for a in sopa:\n",
    "    if 'tabla' in a.text:\n",
    "        b=a"
   ]
  },
  {
   "cell_type": "code",
   "execution_count": 53,
   "metadata": {},
   "outputs": [
    {
     "data": {
      "text/plain": [
       "<a href=\"https://transparencia.archimadrid.es/wp-content/uploads/2021/03/Ingresos_y_Gastos_Archidiocesis_de_Madrid_2019.zip\"><strong>Descargar tabla</strong></a>"
      ]
     },
     "execution_count": 53,
     "metadata": {},
     "output_type": "execute_result"
    }
   ],
   "source": [
    "b"
   ]
  },
  {
   "cell_type": "code",
   "execution_count": 35,
   "metadata": {},
   "outputs": [
    {
     "data": {
      "text/plain": [
       "'Descargar tabla'"
      ]
     },
     "execution_count": 35,
     "metadata": {},
     "output_type": "execute_result"
    }
   ],
   "source": [
    "b.text"
   ]
  },
  {
   "cell_type": "code",
   "execution_count": 57,
   "metadata": {},
   "outputs": [
    {
     "name": "stdout",
     "output_type": "stream",
     "text": [
      "1\n",
      "Ahora voy a por el siguiente elemento\n"
     ]
    }
   ],
   "source": [
    "hola=[1,2,3,4]\n",
    "\n",
    "for e in hola:\n",
    "    if e == 1:\n",
    "        print(e)\n",
    "        print('Ahora voy a por el siguiente elemento')"
   ]
  },
  {
   "cell_type": "code",
   "execution_count": 58,
   "metadata": {},
   "outputs": [
    {
     "name": "stdout",
     "output_type": "stream",
     "text": [
      "0\n",
      "1\n",
      "3\n",
      "4\n",
      "5\n",
      "6\n",
      "7\n",
      "8\n",
      "9\n"
     ]
    }
   ],
   "source": [
    "for i in range(10):\n",
    "    if i != 2:\n",
    "        print(i)\n"
   ]
  },
  {
   "cell_type": "code",
   "execution_count": 68,
   "metadata": {},
   "outputs": [],
   "source": [
    "lst = [[1, 2],[3, 4]]\n"
   ]
  },
  {
   "cell_type": "code",
   "execution_count": 69,
   "metadata": {},
   "outputs": [
    {
     "name": "stdout",
     "output_type": "stream",
     "text": [
      "2\n",
      "4\n"
     ]
    }
   ],
   "source": [
    "for e in lst:\n",
    "    for minielement in e:\n",
    "        if minielement % 2 == 0:\n",
    "            print(minielement)"
   ]
  },
  {
   "cell_type": "code",
   "execution_count": null,
   "metadata": {},
   "outputs": [],
   "source": []
  }
 ],
 "metadata": {
  "kernelspec": {
   "display_name": "base",
   "language": "python",
   "name": "python3"
  },
  "language_info": {
   "codemirror_mode": {
    "name": "ipython",
    "version": 3
   },
   "file_extension": ".py",
   "mimetype": "text/x-python",
   "name": "python",
   "nbconvert_exporter": "python",
   "pygments_lexer": "ipython3",
   "version": "3.10.9"
  },
  "orig_nbformat": 4
 },
 "nbformat": 4,
 "nbformat_minor": 2
}
