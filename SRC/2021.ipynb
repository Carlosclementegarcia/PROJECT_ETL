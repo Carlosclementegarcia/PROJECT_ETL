{
 "cells": [
  {
   "cell_type": "code",
   "execution_count": 3,
   "metadata": {},
   "outputs": [],
   "source": [
    "import pandas as pd\n",
    "from selenium import webdriver\n",
    "from webdriver_manager.chrome import ChromeDriverManager\n",
    "from selenium.webdriver.common.by import By # By es para buscar por tag, clase, id...\n"
   ]
  },
  {
   "cell_type": "code",
   "execution_count": 4,
   "metadata": {},
   "outputs": [],
   "source": [
    "# Configurar el controlador de Chrome\n",
    "driver = webdriver.Chrome()\n",
    "\n",
    "# Navegar a la página web\n",
    "driver.get(\"https://transparencia.archimadrid.es/ingresos-y-gastos-2021/\")\n"
   ]
  },
  {
   "cell_type": "code",
   "execution_count": 5,
   "metadata": {},
   "outputs": [
    {
     "data": {
      "text/plain": [
       "'Descargar tabla'"
      ]
     },
     "execution_count": 5,
     "metadata": {},
     "output_type": "execute_result"
    }
   ],
   "source": [
    "# Localizar el botón\n",
    "boton = driver.find_element(By.TAG_NAME, \"strong\")\n",
    "\n",
    "# Pulsar el botón\n",
    "boton.click()\n",
    "\n",
    "# Cerrar el navegador\n",
    "#driver.quit()\n",
    "\n",
    "boton.text"
   ]
  },
  {
   "cell_type": "code",
   "execution_count": 6,
   "metadata": {},
   "outputs": [
    {
     "ename": "Error",
     "evalue": "('HY024', \"[HY024] [Microsoft][Controlador ODBC Excel] '(desconocido)' no es una ruta de acceso válida. Asegúrese de que la ruta esté escrita correctamente y que esté conectado al servidor donde se encuentra el archivo. (-1023) (SQLDriverConnect); [HY024] [Microsoft][Controlador ODBC Excel]Atributo de cadena de conexión no válido Extended Properties (8); [HY024] [Microsoft][Controlador ODBC Excel]Atributo de cadena de conexión no válido Extended Properties (8); [HY024] [Microsoft][Controlador ODBC Excel]Atributo de cadena de conexión no válido Extended Properties (8); [HY024] [Microsoft][Controlador ODBC Excel]Atributo de cadena de conexión no válido Extended Properties (8); [HY024] [Microsoft][Controlador ODBC Excel]Atributo de cadena de conexión no válido Extended Properties (8); [HY024] [Microsoft][Controlador ODBC Excel]Atributo de cadena de conexión no válido Extended Properties (8); [HY024] [Microsoft][Controlador ODBC Excel]Atributo de cadena de conexión no válido Extended Properties (8); [HY024] [Microsoft][Controlador ODBC Excel]Atributo de cadena de conexión no válido Extended Properties (8); [HY024] [Microsoft][Controlador ODBC Excel]Atributo de cadena de conexión no válido Extended Properties (8); [HY024] [Microsoft][Controlador ODBC Excel]Atributo de cadena de conexión no válido Extended Properties (8); [HY024] [Microsoft][Controlador ODBC Excel]Atributo de cadena de conexión no válido Extended Properties (8); [HY024] [Microsoft][Controlador ODBC Excel]Atributo de cadena de conexión no válido Extended Properties (8); [HY024] [Microsoft][Controlador ODBC Excel]Atributo de cadena de conexión no válido Extended Properties (8); [HY024] [Microsoft][Controlador ODBC Excel]Atributo de cadena de conexión no válido Extended Properties (8); [HY024] [Microsoft][Controlador ODBC Excel] '(desconocido)' no es una ruta de acceso válida. Asegúrese de que la ruta esté escrita correctamente y que esté conectado al servidor donde se encuentra el archivo. (-1023)\")",
     "output_type": "error",
     "traceback": [
      "\u001b[1;31m---------------------------------------------------------------------------\u001b[0m",
      "\u001b[1;31mError\u001b[0m                                     Traceback (most recent call last)",
      "Cell \u001b[1;32mIn[6], line 5\u001b[0m\n\u001b[0;32m      1\u001b[0m \u001b[39mimport\u001b[39;00m \u001b[39mpyodbc\u001b[39;00m\n\u001b[0;32m      4\u001b[0m \u001b[39m# Definir la cadena de conexión a la base de datos\u001b[39;00m\n\u001b[1;32m----> 5\u001b[0m conexion \u001b[39m=\u001b[39m pyodbc\u001b[39m.\u001b[39;49mconnect(\n\u001b[0;32m      6\u001b[0m     \u001b[39m\"\u001b[39;49m\u001b[39mDriver=\u001b[39;49m\u001b[39m{\u001b[39;49m\u001b[39mMicrosoft Excel Driver (*.xls, *.xlsx, *.xlsm, *.xlsb)};\u001b[39;49m\u001b[39m\"\u001b[39;49m\n\u001b[0;32m      7\u001b[0m     \u001b[39m\"\u001b[39;49m\u001b[39mDBQ=ruta/al/archivo.xlsx;\u001b[39;49m\u001b[39m\"\u001b[39;49m\n\u001b[0;32m      8\u001b[0m     \u001b[39m\"\u001b[39;49m\u001b[39mReadOnly=1;\u001b[39;49m\u001b[39m\"\u001b[39;49m\n\u001b[0;32m      9\u001b[0m     \u001b[39m\"\u001b[39;49m\u001b[39mExtended Properties=\u001b[39;49m\u001b[39m'\u001b[39;49m\u001b[39mExcel 12.0 XML\u001b[39;49m\u001b[39m'\u001b[39;49m\u001b[39m;\u001b[39;49m\u001b[39m\"\u001b[39;49m\n\u001b[0;32m     10\u001b[0m )\n\u001b[0;32m     12\u001b[0m \u001b[39m# Consulta SQL para seleccionar los datos de la hoja de cálculo\u001b[39;00m\n\u001b[0;32m     13\u001b[0m query \u001b[39m=\u001b[39m \u001b[39m\"\u001b[39m\u001b[39mSELECT * FROM [Nombre de la hoja$]\u001b[39m\u001b[39m\"\u001b[39m\n",
      "\u001b[1;31mError\u001b[0m: ('HY024', \"[HY024] [Microsoft][Controlador ODBC Excel] '(desconocido)' no es una ruta de acceso válida. Asegúrese de que la ruta esté escrita correctamente y que esté conectado al servidor donde se encuentra el archivo. (-1023) (SQLDriverConnect); [HY024] [Microsoft][Controlador ODBC Excel]Atributo de cadena de conexión no válido Extended Properties (8); [HY024] [Microsoft][Controlador ODBC Excel]Atributo de cadena de conexión no válido Extended Properties (8); [HY024] [Microsoft][Controlador ODBC Excel]Atributo de cadena de conexión no válido Extended Properties (8); [HY024] [Microsoft][Controlador ODBC Excel]Atributo de cadena de conexión no válido Extended Properties (8); [HY024] [Microsoft][Controlador ODBC Excel]Atributo de cadena de conexión no válido Extended Properties (8); [HY024] [Microsoft][Controlador ODBC Excel]Atributo de cadena de conexión no válido Extended Properties (8); [HY024] [Microsoft][Controlador ODBC Excel]Atributo de cadena de conexión no válido Extended Properties (8); [HY024] [Microsoft][Controlador ODBC Excel]Atributo de cadena de conexión no válido Extended Properties (8); [HY024] [Microsoft][Controlador ODBC Excel]Atributo de cadena de conexión no válido Extended Properties (8); [HY024] [Microsoft][Controlador ODBC Excel]Atributo de cadena de conexión no válido Extended Properties (8); [HY024] [Microsoft][Controlador ODBC Excel]Atributo de cadena de conexión no válido Extended Properties (8); [HY024] [Microsoft][Controlador ODBC Excel]Atributo de cadena de conexión no válido Extended Properties (8); [HY024] [Microsoft][Controlador ODBC Excel]Atributo de cadena de conexión no válido Extended Properties (8); [HY024] [Microsoft][Controlador ODBC Excel]Atributo de cadena de conexión no válido Extended Properties (8); [HY024] [Microsoft][Controlador ODBC Excel] '(desconocido)' no es una ruta de acceso válida. Asegúrese de que la ruta esté escrita correctamente y que esté conectado al servidor donde se encuentra el archivo. (-1023)\")"
     ]
    }
   ],
   "source": [
    "import pyodbc\n",
    "\n",
    "\n",
    "# Definir la cadena de conexión a la base de datos\n",
    "conexion = pyodbc.connect(\n",
    "    \"Driver={Microsoft Excel Driver (*.xls, *.xlsx, *.xlsm, *.xlsb)};\"\n",
    "    \"DBQ=ruta/al/archivo.xlsx;\"\n",
    "    \"ReadOnly=1;\"\n",
    "    \"Extended Properties='Excel 12.0 XML';\"\n",
    ")\n",
    "\n",
    "# Consulta SQL para seleccionar los datos de la hoja de cálculo\n",
    "query = \"SELECT * FROM [Nombre de la hoja$]\"\n",
    "\n",
    "# Leer los datos en un dataframe\n",
    "df = pd.read_sql(query, conexion)\n",
    "\n",
    "# Cerrar la conexión\n",
    "conexion.close()\n"
   ]
  }
 ],
 "metadata": {
  "kernelspec": {
   "display_name": "base",
   "language": "python",
   "name": "python3"
  },
  "language_info": {
   "codemirror_mode": {
    "name": "ipython",
    "version": 3
   },
   "file_extension": ".py",
   "mimetype": "text/x-python",
   "name": "python",
   "nbconvert_exporter": "python",
   "pygments_lexer": "ipython3",
   "version": "3.10.9"
  },
  "orig_nbformat": 4
 },
 "nbformat": 4,
 "nbformat_minor": 2
}
