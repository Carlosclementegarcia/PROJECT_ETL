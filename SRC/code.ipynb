{
 "cells": [
  {
   "cell_type": "code",
   "execution_count": 63,
   "metadata": {},
   "outputs": [],
   "source": [
    "import pandas as pd\n",
    "from selenium import webdriver\n",
    "from webdriver_manager.chrome import ChromeDriverManager\n",
    "from selenium.webdriver.common.by import By # By es para buscar por tag, clase, id...\n",
    "\n",
    "\n",
    "\n"
   ]
  },
  {
   "cell_type": "code",
   "execution_count": 64,
   "metadata": {},
   "outputs": [],
   "source": [
    "driver = webdriver.Chrome()\n",
    "\n",
    "\n",
    "\n",
    "\n",
    "driver.get(\"https://transparencia.archimadrid.es/ingresos-y-gastos-2021/\")\n",
    "\n"
   ]
  },
  {
   "cell_type": "code",
   "execution_count": 67,
   "metadata": {},
   "outputs": [],
   "source": [
    "tabla2 = driver.find_element(By.ID,'page-wrap')"
   ]
  },
  {
   "cell_type": "code",
   "execution_count": 68,
   "metadata": {},
   "outputs": [],
   "source": [
    "filas = tabla2.find_elements(By.TAG_NAME, 'tr')"
   ]
  },
  {
   "cell_type": "code",
   "execution_count": 69,
   "metadata": {},
   "outputs": [
    {
     "data": {
      "text/plain": [
       "['APORTACIONES',\n",
       " 'VOLUNTARIAS',\n",
       " 'DE',\n",
       " 'LOS',\n",
       " 'FIELES',\n",
       " '54.895.790,85',\n",
       " '€',\n",
       " '40,52',\n",
       " '%']"
      ]
     },
     "execution_count": 69,
     "metadata": {},
     "output_type": "execute_result"
    }
   ],
   "source": [
    "filas[3].text.split()"
   ]
  },
  {
   "cell_type": "code",
   "execution_count": null,
   "metadata": {},
   "outputs": [
    {
     "data": {
      "text/plain": [
       "'40,52 %'"
      ]
     },
     "execution_count": 37,
     "metadata": {},
     "output_type": "execute_result"
    }
   ],
   "source": [
    "filas[3].find_elements(By.TAG_NAME, 'td')[-1].text"
   ]
  },
  {
   "cell_type": "code",
   "execution_count": null,
   "metadata": {},
   "outputs": [],
   "source": []
  },
  {
   "cell_type": "code",
   "execution_count": null,
   "metadata": {},
   "outputs": [],
   "source": [
    "\n",
    "tabla = []\n",
    "rows = tabla.find_elements_by_tag_name(\"tr\")\n",
    "for row in rows:\n",
    "    cells = row.find_elements_by_tag_name(\"td\")\n",
    "    tabla.append([cell.text for cell in cells])\n",
    "\n",
    "# Creación del DataFrame en Pandas\n",
    "df = pd.DataFrame(data[1:], columns=data[0])\n",
    "\n",
    "# Cierre del navegador\n",
    "driver.quit()"
   ]
  },
  {
   "cell_type": "code",
   "execution_count": null,
   "metadata": {},
   "outputs": [],
   "source": [
    "from selenium import webdriver\n",
    "\n",
    "# Establecer la ruta del controlador de Chrome\n",
    "driver_path = \"/ruta/del/controlador/chromedriver\"\n",
    "\n",
    "# Configurar el controlador de Chrome\n",
    "driver = webdriver.Chrome(executable_path=driver_path)\n",
    "\n",
    "# Navegar a la página web\n",
    "driver.get(\"https://www.example.com\")\n",
    "\n",
    "# Localizar el botón\n",
    "boton = driver.find_element_by_id(\"mi_boton\")\n",
    "\n",
    "# Pulsar el botón\n",
    "boton.click()\n",
    "\n",
    "# Cerrar el navegador\n",
    "driver.quit()\n"
   ]
  }
 ],
 "metadata": {
  "kernelspec": {
   "display_name": "base",
   "language": "python",
   "name": "python3"
  },
  "language_info": {
   "codemirror_mode": {
    "name": "ipython",
    "version": 3
   },
   "file_extension": ".py",
   "mimetype": "text/x-python",
   "name": "python",
   "nbconvert_exporter": "python",
   "pygments_lexer": "ipython3",
   "version": "3.10.9"
  },
  "orig_nbformat": 4
 },
 "nbformat": 4,
 "nbformat_minor": 2
}
